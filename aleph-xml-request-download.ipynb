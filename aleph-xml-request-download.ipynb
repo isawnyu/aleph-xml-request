{
 "cells": [
  {
   "cell_type": "markdown",
   "metadata": {},
   "source": [
    "# Aleph-XML Request/Download\n",
    "This script will request aleph-xml by bsn and write to xml.\n",
    "Written by PJB, 2.15.18; last updated 2.16.18\n",
    "\n",
    "*NB: This needs to be run within the NYU network; requests will fail otherwise.*"
   ]
  },
  {
   "cell_type": "code",
   "execution_count": 1,
   "metadata": {},
   "outputs": [],
   "source": [
    "# imports\n",
    "import urllib.request\n",
    "from tqdm import tqdm #for progress bar"
   ]
  },
  {
   "cell_type": "code",
   "execution_count": 2,
   "metadata": {},
   "outputs": [],
   "source": [
    "# constants\n",
    "in_path = 'data/in'\n",
    "out_path = 'data/out'\n",
    "\n",
    "# files\n",
    "# - script will process a file called bsns.txt in data/in/\n",
    "# - output will be in the form {bsn}.xml in data/out/\n",
    "# - output also includes two txt files: valid_bsns.txt and invalid_bsns.txt"
   ]
  },
  {
   "cell_type": "code",
   "execution_count": 3,
   "metadata": {},
   "outputs": [],
   "source": [
    "# helper functions\n",
    "def expand_bsn(item):\n",
    "    \"\"\"Check length of bsn; front pad with 0s to make length 7\"\"\"\n",
    "    pad = 7 - len(item)\n",
    "    if pad:\n",
    "        item = '0' * pad + item\n",
    "    return item\n",
    "\n",
    "def get_invalid_bsns(bsns):\n",
    "    invalid_bsns = []\n",
    "    for bsn in bsns:\n",
    "        if len(bsn) > 7:\n",
    "            invalid_bsns.append(bsn)\n",
    "        elif not bsn.isdigit():\n",
    "            invalid_bsns.append(bsn)\n",
    "    return invalid_bsns    "
   ]
  },
  {
   "cell_type": "code",
   "execution_count": 4,
   "metadata": {},
   "outputs": [],
   "source": [
    "# retrieve bsns from plaintext file, add to list\n",
    "with open('{}/bsns.txt'.format(in_path), 'r') as f:\n",
    "    bsns = [line for line in (line.strip() for line in f) if line] #inner generator removes blank lines\n",
    "\n",
    "# remove first line if header-like; i.e. first letter of first line is non-numeric\n",
    "if bsns[0][0].isalpha():\n",
    "    bsns.pop(0)\n",
    "    \n",
    "# preprocess/pad bsns    \n",
    "bsns = [expand_bsn(bsn.strip()) for bsn in bsns]"
   ]
  },
  {
   "cell_type": "code",
   "execution_count": 5,
   "metadata": {},
   "outputs": [],
   "source": [
    "# remove/report invalid bsns\n",
    "invalid_bsns = sorted(get_invalid_bsns(bsns)) # get invalid; sort\n",
    "bsns = sorted([bsn for bsn in bsns if bsn not in invalid_bsns]) #remove invalid from bsns; sort\n",
    "\n",
    "# write valid_bsns to file\n",
    "with open(\"{}/valid_bsns.txt\".format(out_path), 'w') as f:\n",
    "    for bsn in bsns:\n",
    "        f.write('{}\\n'.format(bsn))\n",
    "        \n",
    "# write invalid_bsns to file\n",
    "with open(\"{}/invalid_bsns.txt\".format(out_path), 'w') as f:\n",
    "    for invalid_bsn in invalid_bsns:\n",
    "        f.write('{}\\n'.format(invalid_bsn))"
   ]
  },
  {
   "cell_type": "code",
   "execution_count": 6,
   "metadata": {},
   "outputs": [
    {
     "name": "stderr",
     "output_type": "stream",
     "text": [
      "100%|██████████| 824/824 [00:00<00:00, 509825.42it/s]"
     ]
    },
    {
     "name": "stdout",
     "output_type": "stream",
     "text": [
      "Processed 824 records.\n"
     ]
    },
    {
     "name": "stderr",
     "output_type": "stream",
     "text": [
      "\n"
     ]
    }
   ],
   "source": [
    "# iterate over bsns; request aleph-xml; write to xml\n",
    "for bsn in tqdm(bsns):\n",
    "    urlstring = 'http://aleph.library.nyu.edu/X?op=publish_avail&library=nyu01&doc_num=%s' % bsn\n",
    "    aleph_request = urllib.request.urlopen(urlstring)\n",
    "    aleph_xml = aleph_request.read().decode('utf-8')\n",
    "    with open(\"{}/{}.xml\".format(out_path, bsn), 'w') as f:\n",
    "        f.write(aleph_xml)\n",
    "\n",
    "print('Processed {} records.'.format(len(bsns)))"
   ]
  }
 ],
 "metadata": {
  "kernelspec": {
   "display_name": "Python 3",
   "language": "python",
   "name": "python3"
  },
  "language_info": {
   "codemirror_mode": {
    "name": "ipython",
    "version": 3
   },
   "file_extension": ".py",
   "mimetype": "text/x-python",
   "name": "python",
   "nbconvert_exporter": "python",
   "pygments_lexer": "ipython3",
   "version": "3.6.5"
  }
 },
 "nbformat": 4,
 "nbformat_minor": 2
}
